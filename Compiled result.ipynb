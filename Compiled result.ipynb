{
 "cells": [
  {
   "cell_type": "code",
   "execution_count": 22,
   "metadata": {},
   "outputs": [],
   "source": [
    "import pandas as pd\n",
    "from rake_nltk import Rake\n",
    "import json\n",
    "import pandas as pd\n",
    "import numpy as np\n",
    "import matplotlib as mpl\n",
    "import matplotlib.pyplot as plt\n",
    "import seaborn as sns\n",
    "import math, nltk, warnings\n",
    "from nltk.corpus import wordnet\n",
    "from sklearn import linear_model\n",
    "from sklearn.neighbors import NearestNeighbors\n",
    "from fuzzywuzzy import fuzz\n",
    "from wordcloud import WordCloud, STOPWORDS\n",
    "\n",
    "import numpy as np\n",
    "\n",
    "from sklearn.metrics.pairwise import cosine_similarity\n",
    "\n",
    "from sklearn.feature_extraction.text import CountVectorizer\n",
    "from sklearn.metrics.pairwise import linear_kernel"
   ]
  },
  {
   "cell_type": "markdown",
   "metadata": {},
   "source": [
    "# load the data"
   ]
  },
  {
   "cell_type": "code",
   "execution_count": 23,
   "metadata": {},
   "outputs": [
    {
     "data": {
      "text/html": [
       "<div>\n",
       "<style scoped>\n",
       "    .dataframe tbody tr th:only-of-type {\n",
       "        vertical-align: middle;\n",
       "    }\n",
       "\n",
       "    .dataframe tbody tr th {\n",
       "        vertical-align: top;\n",
       "    }\n",
       "\n",
       "    .dataframe thead th {\n",
       "        text-align: right;\n",
       "    }\n",
       "</style>\n",
       "<table border=\"1\" class=\"dataframe\">\n",
       "  <thead>\n",
       "    <tr style=\"text-align: right;\">\n",
       "      <th></th>\n",
       "      <th>Unnamed: 0</th>\n",
       "      <th>Movie Id</th>\n",
       "      <th>Title (Credit)</th>\n",
       "      <th>Cast</th>\n",
       "      <th>Crew</th>\n",
       "      <th>Budget</th>\n",
       "      <th>Genres</th>\n",
       "      <th>Homepage</th>\n",
       "      <th>Id</th>\n",
       "      <th>Keywords</th>\n",
       "      <th>...</th>\n",
       "      <th>Release Date</th>\n",
       "      <th>Revenue</th>\n",
       "      <th>Runtime</th>\n",
       "      <th>Spoken Languages</th>\n",
       "      <th>Status</th>\n",
       "      <th>Tagline</th>\n",
       "      <th>Title</th>\n",
       "      <th>Vote Average</th>\n",
       "      <th>Vote Count</th>\n",
       "      <th>Director</th>\n",
       "    </tr>\n",
       "  </thead>\n",
       "  <tbody>\n",
       "    <tr>\n",
       "      <th>0</th>\n",
       "      <td>0</td>\n",
       "      <td>19995</td>\n",
       "      <td>Avatar</td>\n",
       "      <td>['Sam Worthington', 'Zoe Saldana', 'Sigourney ...</td>\n",
       "      <td>[{'credit_id': '52fe48009251416c750aca23', 'de...</td>\n",
       "      <td>237000000</td>\n",
       "      <td>['Action', 'Adventure', 'Fantasy']</td>\n",
       "      <td>http://www.avatarmovie.com/</td>\n",
       "      <td>19995</td>\n",
       "      <td>['culture clash', 'future', 'space war']</td>\n",
       "      <td>...</td>\n",
       "      <td>2009-12-10</td>\n",
       "      <td>2787965087</td>\n",
       "      <td>162.0</td>\n",
       "      <td>[{\"iso_639_1\": \"en\", \"name\": \"English\"}, {\"iso...</td>\n",
       "      <td>Released</td>\n",
       "      <td>Enter the World of Pandora.</td>\n",
       "      <td>Avatar</td>\n",
       "      <td>7.2</td>\n",
       "      <td>11800</td>\n",
       "      <td>James Cameron</td>\n",
       "    </tr>\n",
       "    <tr>\n",
       "      <th>1</th>\n",
       "      <td>1</td>\n",
       "      <td>285</td>\n",
       "      <td>Pirates of the Caribbean: At World's End</td>\n",
       "      <td>['Johnny Depp', 'Orlando Bloom', 'Keira Knight...</td>\n",
       "      <td>[{'credit_id': '52fe4232c3a36847f800b579', 'de...</td>\n",
       "      <td>300000000</td>\n",
       "      <td>['Adventure', 'Fantasy', 'Action']</td>\n",
       "      <td>http://disney.go.com/disneypictures/pirates/</td>\n",
       "      <td>285</td>\n",
       "      <td>['ocean', 'drug abuse', 'exotic island']</td>\n",
       "      <td>...</td>\n",
       "      <td>2007-05-19</td>\n",
       "      <td>961000000</td>\n",
       "      <td>169.0</td>\n",
       "      <td>[{\"iso_639_1\": \"en\", \"name\": \"English\"}]</td>\n",
       "      <td>Released</td>\n",
       "      <td>At the end of the world, the adventure begins.</td>\n",
       "      <td>Pirates of the Caribbean: At World's End</td>\n",
       "      <td>6.9</td>\n",
       "      <td>4500</td>\n",
       "      <td>Gore Verbinski</td>\n",
       "    </tr>\n",
       "    <tr>\n",
       "      <th>2</th>\n",
       "      <td>2</td>\n",
       "      <td>206647</td>\n",
       "      <td>Spectre</td>\n",
       "      <td>['Daniel Craig', 'Christoph Waltz', 'Léa Seydo...</td>\n",
       "      <td>[{'credit_id': '54805967c3a36829b5002c41', 'de...</td>\n",
       "      <td>245000000</td>\n",
       "      <td>['Action', 'Adventure', 'Crime']</td>\n",
       "      <td>http://www.sonypictures.com/movies/spectre/</td>\n",
       "      <td>206647</td>\n",
       "      <td>['spy', 'based on novel', 'secret agent']</td>\n",
       "      <td>...</td>\n",
       "      <td>2015-10-26</td>\n",
       "      <td>880674609</td>\n",
       "      <td>148.0</td>\n",
       "      <td>[{\"iso_639_1\": \"fr\", \"name\": \"Fran\\u00e7ais\"},...</td>\n",
       "      <td>Released</td>\n",
       "      <td>A Plan No One Escapes</td>\n",
       "      <td>Spectre</td>\n",
       "      <td>6.3</td>\n",
       "      <td>4466</td>\n",
       "      <td>Sam Mendes</td>\n",
       "    </tr>\n",
       "  </tbody>\n",
       "</table>\n",
       "<p>3 rows × 26 columns</p>\n",
       "</div>"
      ],
      "text/plain": [
       "   Unnamed: 0  Movie Id                            Title (Credit)  \\\n",
       "0           0     19995                                    Avatar   \n",
       "1           1       285  Pirates of the Caribbean: At World's End   \n",
       "2           2    206647                                   Spectre   \n",
       "\n",
       "                                                Cast  \\\n",
       "0  ['Sam Worthington', 'Zoe Saldana', 'Sigourney ...   \n",
       "1  ['Johnny Depp', 'Orlando Bloom', 'Keira Knight...   \n",
       "2  ['Daniel Craig', 'Christoph Waltz', 'Léa Seydo...   \n",
       "\n",
       "                                                Crew     Budget  \\\n",
       "0  [{'credit_id': '52fe48009251416c750aca23', 'de...  237000000   \n",
       "1  [{'credit_id': '52fe4232c3a36847f800b579', 'de...  300000000   \n",
       "2  [{'credit_id': '54805967c3a36829b5002c41', 'de...  245000000   \n",
       "\n",
       "                               Genres  \\\n",
       "0  ['Action', 'Adventure', 'Fantasy']   \n",
       "1  ['Adventure', 'Fantasy', 'Action']   \n",
       "2    ['Action', 'Adventure', 'Crime']   \n",
       "\n",
       "                                       Homepage      Id  \\\n",
       "0                   http://www.avatarmovie.com/   19995   \n",
       "1  http://disney.go.com/disneypictures/pirates/     285   \n",
       "2   http://www.sonypictures.com/movies/spectre/  206647   \n",
       "\n",
       "                                    Keywords  ... Release Date     Revenue  \\\n",
       "0   ['culture clash', 'future', 'space war']  ...   2009-12-10  2787965087   \n",
       "1   ['ocean', 'drug abuse', 'exotic island']  ...   2007-05-19   961000000   \n",
       "2  ['spy', 'based on novel', 'secret agent']  ...   2015-10-26   880674609   \n",
       "\n",
       "  Runtime                                   Spoken Languages    Status  \\\n",
       "0   162.0  [{\"iso_639_1\": \"en\", \"name\": \"English\"}, {\"iso...  Released   \n",
       "1   169.0           [{\"iso_639_1\": \"en\", \"name\": \"English\"}]  Released   \n",
       "2   148.0  [{\"iso_639_1\": \"fr\", \"name\": \"Fran\\u00e7ais\"},...  Released   \n",
       "\n",
       "                                          Tagline  \\\n",
       "0                     Enter the World of Pandora.   \n",
       "1  At the end of the world, the adventure begins.   \n",
       "2                           A Plan No One Escapes   \n",
       "\n",
       "                                      Title  Vote Average  Vote Count  \\\n",
       "0                                    Avatar           7.2       11800   \n",
       "1  Pirates of the Caribbean: At World's End           6.9        4500   \n",
       "2                                   Spectre           6.3        4466   \n",
       "\n",
       "         Director  \n",
       "0   James Cameron  \n",
       "1  Gore Verbinski  \n",
       "2      Sam Mendes  \n",
       "\n",
       "[3 rows x 26 columns]"
      ]
     },
     "execution_count": 23,
     "metadata": {},
     "output_type": "execute_result"
    }
   ],
   "source": [
    "df3=pd.read_csv(r'C:\\Users\\onfon\\Desktop\\recommender system\\clean1_data.csv')\n",
    "df3.head(3)"
   ]
  },
  {
   "cell_type": "markdown",
   "metadata": {},
   "source": [
    "# Demographic Filtering"
   ]
  },
  {
   "cell_type": "code",
   "execution_count": 6,
   "metadata": {},
   "outputs": [
    {
     "data": {
      "text/html": [
       "<div>\n",
       "<style scoped>\n",
       "    .dataframe tbody tr th:only-of-type {\n",
       "        vertical-align: middle;\n",
       "    }\n",
       "\n",
       "    .dataframe tbody tr th {\n",
       "        vertical-align: top;\n",
       "    }\n",
       "\n",
       "    .dataframe thead th {\n",
       "        text-align: right;\n",
       "    }\n",
       "</style>\n",
       "<table border=\"1\" class=\"dataframe\">\n",
       "  <thead>\n",
       "    <tr style=\"text-align: right;\">\n",
       "      <th></th>\n",
       "      <th>Title</th>\n",
       "      <th>Vote Count</th>\n",
       "      <th>Vote Average</th>\n",
       "      <th>score</th>\n",
       "    </tr>\n",
       "  </thead>\n",
       "  <tbody>\n",
       "    <tr>\n",
       "      <th>1873</th>\n",
       "      <td>The Shawshank Redemption</td>\n",
       "      <td>8205</td>\n",
       "      <td>8.5</td>\n",
       "      <td>8.064300</td>\n",
       "    </tr>\n",
       "    <tr>\n",
       "      <th>655</th>\n",
       "      <td>Fight Club</td>\n",
       "      <td>9413</td>\n",
       "      <td>8.3</td>\n",
       "      <td>7.943487</td>\n",
       "    </tr>\n",
       "    <tr>\n",
       "      <th>65</th>\n",
       "      <td>The Dark Knight</td>\n",
       "      <td>12002</td>\n",
       "      <td>8.2</td>\n",
       "      <td>7.923423</td>\n",
       "    </tr>\n",
       "    <tr>\n",
       "      <th>3223</th>\n",
       "      <td>Pulp Fiction</td>\n",
       "      <td>8428</td>\n",
       "      <td>8.3</td>\n",
       "      <td>7.909197</td>\n",
       "    </tr>\n",
       "    <tr>\n",
       "      <th>96</th>\n",
       "      <td>Inception</td>\n",
       "      <td>13752</td>\n",
       "      <td>8.1</td>\n",
       "      <td>7.866167</td>\n",
       "    </tr>\n",
       "  </tbody>\n",
       "</table>\n",
       "</div>"
      ],
      "text/plain": [
       "                         Title  Vote Count  Vote Average     score\n",
       "1873  The Shawshank Redemption        8205           8.5  8.064300\n",
       "655                 Fight Club        9413           8.3  7.943487\n",
       "65             The Dark Knight       12002           8.2  7.923423\n",
       "3223              Pulp Fiction        8428           8.3  7.909197\n",
       "96                   Inception       13752           8.1  7.866167"
      ]
     },
     "execution_count": 6,
     "metadata": {},
     "output_type": "execute_result"
    }
   ],
   "source": [
    "#mean vote across the whole report\n",
    "C= df3['Vote Average'].mean()\n",
    "#mean rating\n",
    "m= df3['Vote Count'].quantile(0.9)\n",
    "#filter movie that qualify\n",
    "q_movies=df3.copy().loc[df3['Vote Count']>=m]\n",
    "#calculate the metric for qualified movies\n",
    "def weighted_rating(x,m=m,C=C):\n",
    "    V=x['Vote Count']\n",
    "    R=x['Vote Average']\n",
    "    #calculation based on imdb formula\n",
    "    return(V/(V+m)*R)+(m/(m+V)*C)\n",
    "#define a new feature 'score' & calculate its value\n",
    "q_movies['score']=q_movies.apply(weighted_rating,axis=1)\n",
    "#sort movies based on scores calculated\n",
    "q_movies=q_movies.sort_values('score',ascending=False)\n",
    "#print the top 5 movies\n",
    "q_movies[['Title','Vote Count','Vote Average','score']].head(5)\n"
   ]
  },
  {
   "cell_type": "code",
   "execution_count": 7,
   "metadata": {},
   "outputs": [
    {
     "data": {
      "text/plain": [
       "Text(0.5, 1.0, 'Popular Movies')"
      ]
     },
     "execution_count": 7,
     "metadata": {},
     "output_type": "execute_result"
    },
    {
     "data": {
      "image/png": "[encoded data removed]",
      "text/plain": [
       "<Figure size 864x288 with 1 Axes>"
      ]
     },
     "metadata": {
      "needs_background": "light"
     },
     "output_type": "display_data"
    }
   ],
   "source": [
    "pop= df3.sort_values('Popularity', ascending=False)\n",
    "import matplotlib.pyplot as plt\n",
    "plt.figure(figsize=(12,4))\n",
    "\n",
    "plt.barh(pop['Title'].head(10),pop['Popularity'].head(10), align='center',color='skyblue')\n",
    "plt.gca().invert_yaxis()\n",
    "plt.xlabel(\"Popularity\")\n",
    "plt.title(\"Popular Movies\")"
   ]
  },
  {
   "cell_type": "markdown",
   "metadata": {},
   "source": [
    "# Content based filtering"
   ]
  },
  {
   "cell_type": "code",
   "execution_count": 44,
   "metadata": {},
   "outputs": [],
   "source": [
    "# Function to convert all strings to lower case and strip names of spaces\n",
    "def clean_data(x):\n",
    "    if isinstance(x, list):\n",
    "        return [str.lower(i.replace(\" \", \"\")) for i in x]\n",
    "    else:\n",
    "        #Check if director exists. If not, return empty string\n",
    "        if isinstance(x, str):\n",
    "            return str.lower(x.replace(\" \", \"\"))\n",
    "        else:\n",
    "            return ''\n",
    "# Apply clean_data function to the features.\n",
    "features = ['Cast', 'Keywords', 'Director', 'Genres','Production Companies','Production Countries','Overview','Tagline']\n",
    "for feature in features:\n",
    "    df3[feature] = df3[feature].apply(clean_data)\n",
    "\n",
    "\n",
    "        "
   ]
  },
  {
   "cell_type": "code",
   "execution_count": 52,
   "metadata": {},
   "outputs": [
    {
     "data": {
      "text/html": [
       "<div>\n",
       "<style scoped>\n",
       "    .dataframe tbody tr th:only-of-type {\n",
       "        vertical-align: middle;\n",
       "    }\n",
       "\n",
       "    .dataframe tbody tr th {\n",
       "        vertical-align: top;\n",
       "    }\n",
       "\n",
       "    .dataframe thead th {\n",
       "        text-align: right;\n",
       "    }\n",
       "</style>\n",
       "<table border=\"1\" class=\"dataframe\">\n",
       "  <thead>\n",
       "    <tr style=\"text-align: right;\">\n",
       "      <th></th>\n",
       "      <th>Title</th>\n",
       "      <th>Cast</th>\n",
       "      <th>Keywords</th>\n",
       "      <th>Director</th>\n",
       "      <th>Genres</th>\n",
       "      <th>Production Companies</th>\n",
       "      <th>Production Countries</th>\n",
       "      <th>Overview</th>\n",
       "      <th>Tagline</th>\n",
       "    </tr>\n",
       "  </thead>\n",
       "  <tbody>\n",
       "    <tr>\n",
       "      <th>0</th>\n",
       "      <td>Avatar</td>\n",
       "      <td>['samworthington','zoesaldana','sigourneyweaver']</td>\n",
       "      <td>['cultureclash','future','spacewar']</td>\n",
       "      <td>jamescameron</td>\n",
       "      <td>['action','adventure','fantasy']</td>\n",
       "      <td>['ingeniousfilmpartners','twentiethcenturyfoxf...</td>\n",
       "      <td>['unitedstatesofamerica','unitedkingdom']</td>\n",
       "      <td>inthe22ndcentury,aparaplegicmarineisdispatched...</td>\n",
       "      <td>entertheworldofpandora.</td>\n",
       "    </tr>\n",
       "    <tr>\n",
       "      <th>1</th>\n",
       "      <td>Pirates of the Caribbean: At World's End</td>\n",
       "      <td>['johnnydepp','orlandobloom','keiraknightley']</td>\n",
       "      <td>['ocean','drugabuse','exoticisland']</td>\n",
       "      <td>goreverbinski</td>\n",
       "      <td>['adventure','fantasy','action']</td>\n",
       "      <td>['waltdisneypictures','jerrybruckheimerfilms',...</td>\n",
       "      <td>['unitedstatesofamerica']</td>\n",
       "      <td>captainbarbossa,longbelievedtobedead,hascomeba...</td>\n",
       "      <td>attheendoftheworld,theadventurebegins.</td>\n",
       "    </tr>\n",
       "    <tr>\n",
       "      <th>2</th>\n",
       "      <td>Spectre</td>\n",
       "      <td>['danielcraig','christophwaltz','léaseydoux']</td>\n",
       "      <td>['spy','basedonnovel','secretagent']</td>\n",
       "      <td>sammendes</td>\n",
       "      <td>['action','adventure','crime']</td>\n",
       "      <td>['columbiapictures','danjaq','b24']</td>\n",
       "      <td>['unitedkingdom','unitedstatesofamerica']</td>\n",
       "      <td>acrypticmessagefrombondâ€™spastsendshimonatrai...</td>\n",
       "      <td>aplannooneescapes</td>\n",
       "    </tr>\n",
       "    <tr>\n",
       "      <th>3</th>\n",
       "      <td>The Dark Knight Rises</td>\n",
       "      <td>['christianbale','michaelcaine','garyoldman']</td>\n",
       "      <td>['dccomics','crimefighter','terrorist']</td>\n",
       "      <td>christophernolan</td>\n",
       "      <td>['action','crime','drama']</td>\n",
       "      <td>['legendarypictures','warnerbros.','dcentertai...</td>\n",
       "      <td>['unitedstatesofamerica']</td>\n",
       "      <td>followingthedeathofdistrictattorneyharveydent,...</td>\n",
       "      <td>thelegendends</td>\n",
       "    </tr>\n",
       "    <tr>\n",
       "      <th>4</th>\n",
       "      <td>John Carter</td>\n",
       "      <td>['taylorkitsch','lynncollins','samanthamorton']</td>\n",
       "      <td>['basedonnovel','mars','medallion']</td>\n",
       "      <td>andrewstanton</td>\n",
       "      <td>['action','adventure','sciencefiction']</td>\n",
       "      <td>['waltdisneypictures']</td>\n",
       "      <td>['unitedstatesofamerica']</td>\n",
       "      <td>johncarterisawar-weary,formermilitarycaptainwh...</td>\n",
       "      <td>lostinourworld,foundinanother.</td>\n",
       "    </tr>\n",
       "  </tbody>\n",
       "</table>\n",
       "</div>"
      ],
      "text/plain": [
       "                                      Title  \\\n",
       "0                                    Avatar   \n",
       "1  Pirates of the Caribbean: At World's End   \n",
       "2                                   Spectre   \n",
       "3                     The Dark Knight Rises   \n",
       "4                               John Carter   \n",
       "\n",
       "                                                Cast  \\\n",
       "0  ['samworthington','zoesaldana','sigourneyweaver']   \n",
       "1     ['johnnydepp','orlandobloom','keiraknightley']   \n",
       "2      ['danielcraig','christophwaltz','léaseydoux']   \n",
       "3      ['christianbale','michaelcaine','garyoldman']   \n",
       "4    ['taylorkitsch','lynncollins','samanthamorton']   \n",
       "\n",
       "                                  Keywords          Director  \\\n",
       "0     ['cultureclash','future','spacewar']      jamescameron   \n",
       "1     ['ocean','drugabuse','exoticisland']     goreverbinski   \n",
       "2     ['spy','basedonnovel','secretagent']         sammendes   \n",
       "3  ['dccomics','crimefighter','terrorist']  christophernolan   \n",
       "4      ['basedonnovel','mars','medallion']     andrewstanton   \n",
       "\n",
       "                                    Genres  \\\n",
       "0         ['action','adventure','fantasy']   \n",
       "1         ['adventure','fantasy','action']   \n",
       "2           ['action','adventure','crime']   \n",
       "3               ['action','crime','drama']   \n",
       "4  ['action','adventure','sciencefiction']   \n",
       "\n",
       "                                Production Companies  \\\n",
       "0  ['ingeniousfilmpartners','twentiethcenturyfoxf...   \n",
       "1  ['waltdisneypictures','jerrybruckheimerfilms',...   \n",
       "2                ['columbiapictures','danjaq','b24']   \n",
       "3  ['legendarypictures','warnerbros.','dcentertai...   \n",
       "4                             ['waltdisneypictures']   \n",
       "\n",
       "                        Production Countries  \\\n",
       "0  ['unitedstatesofamerica','unitedkingdom']   \n",
       "1                  ['unitedstatesofamerica']   \n",
       "2  ['unitedkingdom','unitedstatesofamerica']   \n",
       "3                  ['unitedstatesofamerica']   \n",
       "4                  ['unitedstatesofamerica']   \n",
       "\n",
       "                                            Overview  \\\n",
       "0  inthe22ndcentury,aparaplegicmarineisdispatched...   \n",
       "1  captainbarbossa,longbelievedtobedead,hascomeba...   \n",
       "2  acrypticmessagefrombondâ€™spastsendshimonatrai...   \n",
       "3  followingthedeathofdistrictattorneyharveydent,...   \n",
       "4  johncarterisawar-weary,formermilitarycaptainwh...   \n",
       "\n",
       "                                  Tagline  \n",
       "0                 entertheworldofpandora.  \n",
       "1  attheendoftheworld,theadventurebegins.  \n",
       "2                       aplannooneescapes  \n",
       "3                           thelegendends  \n",
       "4          lostinourworld,foundinanother.  "
      ]
     },
     "execution_count": 52,
     "metadata": {},
     "output_type": "execute_result"
    }
   ],
   "source": [
    "#selecting relevant  columns \n",
    "df4 = df3[['Title','Cast', 'Keywords', 'Director', 'Genres','Production Companies','Production Countries','Overview','Tagline']]\n",
    "df4.head()"
   ]
  },
  {
   "cell_type": "code",
   "execution_count": 53,
   "metadata": {},
   "outputs": [
    {
     "name": "stderr",
     "output_type": "stream",
     "text": [
      "C:\\Users\\onfon\\AppData\\Local\\Continuum\\anaconda3\\lib\\site-packages\\ipykernel_launcher.py:3: SettingWithCopyWarning: \n",
      "A value is trying to be set on a copy of a slice from a DataFrame.\n",
      "Try using .loc[row_indexer,col_indexer] = value instead\n",
      "\n",
      "See the caveats in the documentation: http://pandas.pydata.org/pandas-docs/stable/indexing.html#indexing-view-versus-copy\n",
      "  This is separate from the ipykernel package so we can avoid doing imports until\n"
     ]
    }
   ],
   "source": [
    "#extracting key words\n",
    "# initializing the new column\n",
    "df4['Key_words'] = \"\"\n",
    "\n",
    "for index, row in df4.iterrows():\n",
    "    content = row['Overview']\n",
    "    \n",
    "    # instantiating Rake, by default is uses english stopwords from NLTK\n",
    "    # and discard all puntuation characters\n",
    "    r = Rake()\n",
    "\n",
    "    # extracting the words by passing the text\n",
    "    r.extract_keywords_from_text(content)\n",
    "\n",
    "    # getting the dictionary whith key words and their scores\n",
    "    key_words_dict_scores = r.get_word_degrees()\n",
    "    \n",
    "    # assigning the key words to the new column\n",
    "    row['Key_words'] = list(key_words_dict_scores.keys())\n",
    "\n",
    "df4.drop(columns = ['Overview'], inplace = True)"
   ]
  },
  {
   "cell_type": "code",
   "execution_count": 54,
   "metadata": {
    "scrolled": true
   },
   "outputs": [
    {
     "data": {
      "text/html": [
       "<div>\n",
       "<style scoped>\n",
       "    .dataframe tbody tr th:only-of-type {\n",
       "        vertical-align: middle;\n",
       "    }\n",
       "\n",
       "    .dataframe tbody tr th {\n",
       "        vertical-align: top;\n",
       "    }\n",
       "\n",
       "    .dataframe thead th {\n",
       "        text-align: right;\n",
       "    }\n",
       "</style>\n",
       "<table border=\"1\" class=\"dataframe\">\n",
       "  <thead>\n",
       "    <tr style=\"text-align: right;\">\n",
       "      <th></th>\n",
       "      <th>Key_words</th>\n",
       "    </tr>\n",
       "  </thead>\n",
       "  <tbody>\n",
       "    <tr>\n",
       "      <th>0</th>\n",
       "      <td>[aparaplegicmarineisdispatchedtothemoonpandora...</td>\n",
       "    </tr>\n",
       "    <tr>\n",
       "      <th>1</th>\n",
       "      <td>[longbelievedtobedead, butnothingisquiteasitse...</td>\n",
       "    </tr>\n",
       "    <tr>\n",
       "      <th>2</th>\n",
       "      <td>[bondpeelsbackthelayersofdeceittorevealtheterr...</td>\n",
       "    </tr>\n",
       "    <tr>\n",
       "      <th>3</th>\n",
       "      <td>[batmanassumesresponsibilityfordent, anewterro...</td>\n",
       "    </tr>\n",
       "    <tr>\n",
       "      <th>4</th>\n",
       "      <td>[saworldonthebrinkofcollapse, formermilitaryca...</td>\n",
       "    </tr>\n",
       "  </tbody>\n",
       "</table>\n",
       "</div>"
      ],
      "text/plain": [
       "                                           Key_words\n",
       "0  [aparaplegicmarineisdispatchedtothemoonpandora...\n",
       "1  [longbelievedtobedead, butnothingisquiteasitse...\n",
       "2  [bondpeelsbackthelayersofdeceittorevealtheterr...\n",
       "3  [batmanassumesresponsibilityfordent, anewterro...\n",
       "4  [saworldonthebrinkofcollapse, formermilitaryca..."
      ]
     },
     "execution_count": 54,
     "metadata": {},
     "output_type": "execute_result"
    }
   ],
   "source": [
    "df4[['Key_words']].head(5)"
   ]
  },
  {
   "cell_type": "code",
   "execution_count": 55,
   "metadata": {},
   "outputs": [
    {
     "name": "stderr",
     "output_type": "stream",
     "text": [
      "C:\\Users\\onfon\\AppData\\Local\\Continuum\\anaconda3\\lib\\site-packages\\ipykernel_launcher.py:11: SettingWithCopyWarning: \n",
      "A value is trying to be set on a copy of a slice from a DataFrame.\n",
      "Try using .loc[row_indexer,col_indexer] = value instead\n",
      "\n",
      "See the caveats in the documentation: http://pandas.pydata.org/pandas-docs/stable/indexing.html#indexing-view-versus-copy\n",
      "  # This is added back by InteractiveShellApp.init_path()\n"
     ]
    }
   ],
   "source": [
    "from ast import literal_eval\n",
    "\n",
    "def literal_eval_cust(x):\n",
    "    try:\n",
    "        return literal_eval(x)\n",
    "    except Exception:\n",
    "        return {}\n",
    "\n",
    "features =  ['Cast', 'Keywords', 'Genres','Production Companies','Production Countries']\n",
    "for feature in features:\n",
    "    df4[feature] = df4[feature].apply(literal_eval_cust)\n"
   ]
  },
  {
   "cell_type": "code",
   "execution_count": 58,
   "metadata": {},
   "outputs": [],
   "source": [
    "df5=df4"
   ]
  },
  {
   "cell_type": "markdown",
   "metadata": {},
   "source": [
    "# merging column words"
   ]
  },
  {
   "cell_type": "code",
   "execution_count": 60,
   "metadata": {},
   "outputs": [],
   "source": [
    "\n",
    "for index, row in df5.iterrows():\n",
    "    row['Cast'] = ''.join(row['Cast']).lower()\n",
    "    row['Keywords'] = ''.join(row['Keywords']).lower()\n",
    "    row['Director'] = ''.join(row['Director']).lower()\n",
    "    row['Genres'] = ''.join(row['Genres']).lower()\n",
    "    row['Production Companies'] = ''.join(row['Production Companies']).lower()\n",
    "    row['Production Countries'] = ''.join(row['Production Countries']).lower()\n",
    "    row['Tagline'] = ''.join(row['Tagline']).lower()\n",
    "    "
   ]
  },
  {
   "cell_type": "code",
   "execution_count": 61,
   "metadata": {},
   "outputs": [
    {
     "data": {
      "text/html": [
       "<div>\n",
       "<style scoped>\n",
       "    .dataframe tbody tr th:only-of-type {\n",
       "        vertical-align: middle;\n",
       "    }\n",
       "\n",
       "    .dataframe tbody tr th {\n",
       "        vertical-align: top;\n",
       "    }\n",
       "\n",
       "    .dataframe thead th {\n",
       "        text-align: right;\n",
       "    }\n",
       "</style>\n",
       "<table border=\"1\" class=\"dataframe\">\n",
       "  <thead>\n",
       "    <tr style=\"text-align: right;\">\n",
       "      <th></th>\n",
       "      <th>Title</th>\n",
       "      <th>Cast</th>\n",
       "      <th>Keywords</th>\n",
       "      <th>Director</th>\n",
       "      <th>Genres</th>\n",
       "      <th>Production Companies</th>\n",
       "      <th>Production Countries</th>\n",
       "      <th>Tagline</th>\n",
       "      <th>Key_words</th>\n",
       "    </tr>\n",
       "  </thead>\n",
       "  <tbody>\n",
       "    <tr>\n",
       "      <th>0</th>\n",
       "      <td>Avatar</td>\n",
       "      <td>samworthingtonzoesaldanasigourneyweaver</td>\n",
       "      <td>cultureclashfuturespacewar</td>\n",
       "      <td>jamescameron</td>\n",
       "      <td>actionadventurefantasy</td>\n",
       "      <td>ingeniousfilmpartnerstwentiethcenturyfoxfilmco...</td>\n",
       "      <td>unitedstatesofamericaunitedkingdom</td>\n",
       "      <td>entertheworldofpandora.</td>\n",
       "      <td>[aparaplegicmarineisdispatchedtothemoonpandora...</td>\n",
       "    </tr>\n",
       "    <tr>\n",
       "      <th>1</th>\n",
       "      <td>Pirates of the Caribbean: At World's End</td>\n",
       "      <td>johnnydepporlandobloomkeiraknightley</td>\n",
       "      <td>oceandrugabuseexoticisland</td>\n",
       "      <td>goreverbinski</td>\n",
       "      <td>adventurefantasyaction</td>\n",
       "      <td>waltdisneypicturesjerrybruckheimerfilmssecondm...</td>\n",
       "      <td>unitedstatesofamerica</td>\n",
       "      <td>attheendoftheworld,theadventurebegins.</td>\n",
       "      <td>[longbelievedtobedead, butnothingisquiteasitse...</td>\n",
       "    </tr>\n",
       "    <tr>\n",
       "      <th>2</th>\n",
       "      <td>Spectre</td>\n",
       "      <td>danielcraigchristophwaltzléaseydoux</td>\n",
       "      <td>spybasedonnovelsecretagent</td>\n",
       "      <td>sammendes</td>\n",
       "      <td>actionadventurecrime</td>\n",
       "      <td>columbiapicturesdanjaqb24</td>\n",
       "      <td>unitedkingdomunitedstatesofamerica</td>\n",
       "      <td>aplannooneescapes</td>\n",
       "      <td>[bondpeelsbackthelayersofdeceittorevealtheterr...</td>\n",
       "    </tr>\n",
       "  </tbody>\n",
       "</table>\n",
       "</div>"
      ],
      "text/plain": [
       "                                      Title  \\\n",
       "0                                    Avatar   \n",
       "1  Pirates of the Caribbean: At World's End   \n",
       "2                                   Spectre   \n",
       "\n",
       "                                      Cast                    Keywords  \\\n",
       "0  samworthingtonzoesaldanasigourneyweaver  cultureclashfuturespacewar   \n",
       "1     johnnydepporlandobloomkeiraknightley  oceandrugabuseexoticisland   \n",
       "2      danielcraigchristophwaltzléaseydoux  spybasedonnovelsecretagent   \n",
       "\n",
       "        Director                  Genres  \\\n",
       "0   jamescameron  actionadventurefantasy   \n",
       "1  goreverbinski  adventurefantasyaction   \n",
       "2      sammendes    actionadventurecrime   \n",
       "\n",
       "                                Production Companies  \\\n",
       "0  ingeniousfilmpartnerstwentiethcenturyfoxfilmco...   \n",
       "1  waltdisneypicturesjerrybruckheimerfilmssecondm...   \n",
       "2                          columbiapicturesdanjaqb24   \n",
       "\n",
       "                 Production Countries                                 Tagline  \\\n",
       "0  unitedstatesofamericaunitedkingdom                 entertheworldofpandora.   \n",
       "1               unitedstatesofamerica  attheendoftheworld,theadventurebegins.   \n",
       "2  unitedkingdomunitedstatesofamerica                       aplannooneescapes   \n",
       "\n",
       "                                           Key_words  \n",
       "0  [aparaplegicmarineisdispatchedtothemoonpandora...  \n",
       "1  [longbelievedtobedead, butnothingisquiteasitse...  \n",
       "2  [bondpeelsbackthelayersofdeceittorevealtheterr...  "
      ]
     },
     "execution_count": 61,
     "metadata": {},
     "output_type": "execute_result"
    }
   ],
   "source": [
    "df5.head(3)"
   ]
  },
  {
   "cell_type": "code",
   "execution_count": 62,
   "metadata": {},
   "outputs": [],
   "source": [
    "#set title as the index \n",
    "df5.set_index('Title', inplace = True)\n"
   ]
  },
  {
   "cell_type": "markdown",
   "metadata": {},
   "source": [
    "# creating bag of words"
   ]
  },
  {
   "cell_type": "code",
   "execution_count": 63,
   "metadata": {},
   "outputs": [
    {
     "name": "stderr",
     "output_type": "stream",
     "text": [
      "C:\\Users\\onfon\\AppData\\Local\\Continuum\\anaconda3\\lib\\site-packages\\ipykernel_launcher.py:1: SettingWithCopyWarning: \n",
      "A value is trying to be set on a copy of a slice from a DataFrame.\n",
      "Try using .loc[row_indexer,col_indexer] = value instead\n",
      "\n",
      "See the caveats in the documentation: http://pandas.pydata.org/pandas-docs/stable/indexing.html#indexing-view-versus-copy\n",
      "  \"\"\"Entry point for launching an IPython kernel.\n"
     ]
    }
   ],
   "source": [
    "\n",
    "df5['bag_of_words'] = ''\n",
    "columns = df5.columns\n",
    "for index, row in df5.iterrows():\n",
    "    words = ''\n",
    "    for col in columns:\n",
    "        if col != 'Cast':\n",
    "            words = words + ' '.join(row[col])+ ' '\n",
    "        else:\n",
    "            words = words + row[col]+ ' '\n",
    "    row['bag_of_words'] = words\n",
    "    \n",
    "df5.drop(columns = [col for col in df5.columns if col!= 'bag_of_words'], inplace = True)"
   ]
  },
  {
   "cell_type": "code",
   "execution_count": 64,
   "metadata": {},
   "outputs": [
    {
     "data": {
      "text/html": [
       "<div>\n",
       "<style scoped>\n",
       "    .dataframe tbody tr th:only-of-type {\n",
       "        vertical-align: middle;\n",
       "    }\n",
       "\n",
       "    .dataframe tbody tr th {\n",
       "        vertical-align: top;\n",
       "    }\n",
       "\n",
       "    .dataframe thead th {\n",
       "        text-align: right;\n",
       "    }\n",
       "</style>\n",
       "<table border=\"1\" class=\"dataframe\">\n",
       "  <thead>\n",
       "    <tr style=\"text-align: right;\">\n",
       "      <th></th>\n",
       "      <th>bag_of_words</th>\n",
       "    </tr>\n",
       "    <tr>\n",
       "      <th>Title</th>\n",
       "      <th></th>\n",
       "    </tr>\n",
       "  </thead>\n",
       "  <tbody>\n",
       "    <tr>\n",
       "      <th>Avatar</th>\n",
       "      <td>samworthingtonzoesaldanasigourneyweaver c u l ...</td>\n",
       "    </tr>\n",
       "    <tr>\n",
       "      <th>Pirates of the Caribbean: At World's End</th>\n",
       "      <td>johnnydepporlandobloomkeiraknightley o c e a n...</td>\n",
       "    </tr>\n",
       "    <tr>\n",
       "      <th>Spectre</th>\n",
       "      <td>danielcraigchristophwaltzléaseydoux s p y b a ...</td>\n",
       "    </tr>\n",
       "  </tbody>\n",
       "</table>\n",
       "</div>"
      ],
      "text/plain": [
       "                                                                               bag_of_words\n",
       "Title                                                                                      \n",
       "Avatar                                    samworthingtonzoesaldanasigourneyweaver c u l ...\n",
       "Pirates of the Caribbean: At World's End  johnnydepporlandobloomkeiraknightley o c e a n...\n",
       "Spectre                                   danielcraigchristophwaltzléaseydoux s p y b a ..."
      ]
     },
     "execution_count": 64,
     "metadata": {},
     "output_type": "execute_result"
    }
   ],
   "source": [
    "df5.head(3)"
   ]
  },
  {
   "cell_type": "code",
   "execution_count": 65,
   "metadata": {},
   "outputs": [],
   "source": [
    "df5.to_csv('bag_of_words.csv')"
   ]
  },
  {
   "cell_type": "markdown",
   "metadata": {},
   "source": [
    "# CountVectorizer() instead of TF-IDF."
   ]
  },
  {
   "cell_type": "code",
   "execution_count": 66,
   "metadata": {},
   "outputs": [],
   "source": [
    "# Import CountVectorizer and create the count matrix\n",
    "from sklearn.feature_extraction.text import CountVectorizer\n",
    "\n",
    "count = CountVectorizer(stop_words='english')\n",
    "count_matrix = count.fit_transform(df5['bag_of_words'])\n"
   ]
  },
  {
   "cell_type": "code",
   "execution_count": 67,
   "metadata": {},
   "outputs": [],
   "source": [
    "# Compute the Cosine Similarity matrix based on the count_matrix\n",
    "from sklearn.metrics.pairwise import cosine_similarity\n",
    "\n",
    "cosine_sim2 = cosine_similarity(count_matrix, count_matrix)"
   ]
  },
  {
   "cell_type": "code",
   "execution_count": 68,
   "metadata": {},
   "outputs": [],
   "source": [
    "# Reset index of our main DataFrame \n",
    "df5 = df5.reset_index()\n",
    "indices = pd.Series(df5.index, index=df5['Title'])"
   ]
  },
  {
   "cell_type": "code",
   "execution_count": 73,
   "metadata": {},
   "outputs": [],
   "source": [
    "#ignore\n",
    "def sequel(titre_1, titre_2):    \n",
    "    if fuzz.ratio(titre_1, titre_2) > 50 or fuzz.token_set_ratio(titre_1, titre_2) > 50:\n",
    "        return True\n",
    "    else:\n",
    "        return False"
   ]
  },
  {
   "cell_type": "code",
   "execution_count": 70,
   "metadata": {},
   "outputs": [],
   "source": [
    "# Function that takes in movie title as input and outputs most similar movies\n",
    "def get_recommendations(Title, cosine_sim2=cosine_sim2):\n",
    "    # Get the index of the movie that matches the title\n",
    "    idx = indices[Title]\n",
    "\n",
    "    # Get the pairwsie similarity scores of all movies with that movie\n",
    "    sim_scores = list(enumerate(cosine_sim2[idx]))\n",
    "\n",
    "    # Sort the movies based on the similarity scores\n",
    "    sim_scores = sorted(sim_scores, key=lambda x: x[1], reverse=True)\n",
    "\n",
    "    # Get the scores of the 10 most similar movies\n",
    "    sim_scores = sim_scores[1:11]\n",
    "\n",
    "    # Get the movie indices\n",
    "    movie_indices = [i[0] for i in sim_scores]\n",
    "\n",
    "    # Return the top 10 most similar movies\n",
    "    return df5['Title'].iloc[movie_indices]"
   ]
  },
  {
   "cell_type": "code",
   "execution_count": 76,
   "metadata": {},
   "outputs": [
    {
     "data": {
      "text/plain": [
       "0                                       Avatar\n",
       "1     Pirates of the Caribbean: At World's End\n",
       "2                                      Spectre\n",
       "4                                  John Carter\n",
       "5                                 Spider-Man 3\n",
       "6                                      Tangled\n",
       "7                      Avengers: Age of Ultron\n",
       "8       Harry Potter and the Half-Blood Prince\n",
       "9           Batman v Superman: Dawn of Justice\n",
       "10                            Superman Returns\n",
       "Name: Title, dtype: object"
      ]
     },
     "execution_count": 76,
     "metadata": {},
     "output_type": "execute_result"
    }
   ],
   "source": [
    "get_recommendations('The Dark Knight Rises', cosine_sim2)"
   ]
  },
  {
   "cell_type": "code",
   "execution_count": null,
   "metadata": {},
   "outputs": [],
   "source": [
    "!pip install azureml.opendatasets\n",
    "from azureml.opendatasets import NycTlcGreen\n",
    "import pandas as pd\n",
    "from datetime import datetime\n",
    "from dateutil.relativedelta import relativedelta"
   ]
  },
  {
   "cell_type": "code",
   "execution_count": null,
   "metadata": {},
   "outputs": [],
   "source": []
  }
 ],
 "metadata": {
  "kernelspec": {
   "display_name": "Python 3",
   "language": "python",
   "name": "python3"
  },
  "language_info": {
   "codemirror_mode": {
    "name": "ipython",
    "version": 3
   },
   "file_extension": ".py",
   "mimetype": "text/x-python",
   "name": "python",
   "nbconvert_exporter": "python",
   "pygments_lexer": "ipython3",
   "version": "3.7.3"
  }
 },
 "nbformat": 4,
 "nbformat_minor": 2
}
